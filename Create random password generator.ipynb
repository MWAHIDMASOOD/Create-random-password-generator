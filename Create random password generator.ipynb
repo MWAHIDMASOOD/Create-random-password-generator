{
 "cells": [
  {
   "cell_type": "code",
   "execution_count": 8,
   "id": "192827d2",
   "metadata": {},
   "outputs": [
    {
     "name": "stdout",
     "output_type": "stream",
     "text": [
      "Enter password's length: 15\n",
      "0IK%etW$1d%oD15\n"
     ]
    }
   ],
   "source": [
    "import string\n",
    "import random\n",
    "characters = list(string.ascii_letters + string.digits + \"!@#$%^&*()\")\n",
    "def generate_random_password():\n",
    "    length = int(input(\"Enter password's length: \"))\n",
    "    random.shuffle(characters)\n",
    "    password = []\n",
    "    for i in range(length):\n",
    "        password.append(random.choice(characters))\n",
    "    random.shuffle(password)\n",
    "    print(\"\".join(password))\n",
    "generate_random_password()"
   ]
  },
  {
   "cell_type": "code",
   "execution_count": null,
   "id": "54137574",
   "metadata": {},
   "outputs": [],
   "source": []
  }
 ],
 "metadata": {
  "kernelspec": {
   "display_name": "Python 3 (ipykernel)",
   "language": "python",
   "name": "python3"
  },
  "language_info": {
   "codemirror_mode": {
    "name": "ipython",
    "version": 3
   },
   "file_extension": ".py",
   "mimetype": "text/x-python",
   "name": "python",
   "nbconvert_exporter": "python",
   "pygments_lexer": "ipython3",
   "version": "3.9.12"
  }
 },
 "nbformat": 4,
 "nbformat_minor": 5
}
